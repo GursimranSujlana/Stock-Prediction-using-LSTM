{
 "cells": [
  {
   "cell_type": "code",
   "execution_count": 24,
   "id": "91d2407e",
   "metadata": {},
   "outputs": [],
   "source": [
    "import numpy as np\n",
    "import matplotlib.pyplot as plt\n",
    "import pandas as pd\n",
    "from sklearn.preprocessing import MinMaxScaler\n",
    "from keras.models import Sequential\n",
    "from keras.layers import LSTM\n",
    "from keras.layers import Dropout\n",
    "from keras.layers import Dense"
   ]
  },
  {
   "cell_type": "code",
   "execution_count": 28,
   "id": "c56562f6",
   "metadata": {},
   "outputs": [
    {
     "data": {
      "text/html": [
       "<div>\n",
       "<style scoped>\n",
       "    .dataframe tbody tr th:only-of-type {\n",
       "        vertical-align: middle;\n",
       "    }\n",
       "\n",
       "    .dataframe tbody tr th {\n",
       "        vertical-align: top;\n",
       "    }\n",
       "\n",
       "    .dataframe thead th {\n",
       "        text-align: right;\n",
       "    }\n",
       "</style>\n",
       "<table border=\"1\" class=\"dataframe\">\n",
       "  <thead>\n",
       "    <tr style=\"text-align: right;\">\n",
       "      <th></th>\n",
       "      <th>Date</th>\n",
       "      <th>Open</th>\n",
       "      <th>High</th>\n",
       "      <th>Low</th>\n",
       "      <th>Close</th>\n",
       "      <th>Adj Close</th>\n",
       "      <th>Volume</th>\n",
       "    </tr>\n",
       "  </thead>\n",
       "  <tbody>\n",
       "    <tr>\n",
       "      <th>0</th>\n",
       "      <td>1997-09-22</td>\n",
       "      <td>48.757172</td>\n",
       "      <td>50.250957</td>\n",
       "      <td>48.757172</td>\n",
       "      <td>49.653442</td>\n",
       "      <td>26.706272</td>\n",
       "      <td>14516806</td>\n",
       "    </tr>\n",
       "    <tr>\n",
       "      <th>1</th>\n",
       "      <td>1997-09-23</td>\n",
       "      <td>49.743069</td>\n",
       "      <td>50.191204</td>\n",
       "      <td>49.115681</td>\n",
       "      <td>49.354687</td>\n",
       "      <td>26.545588</td>\n",
       "      <td>8669666</td>\n",
       "    </tr>\n",
       "    <tr>\n",
       "      <th>2</th>\n",
       "      <td>1997-09-24</td>\n",
       "      <td>49.653442</td>\n",
       "      <td>49.922321</td>\n",
       "      <td>48.488289</td>\n",
       "      <td>48.548038</td>\n",
       "      <td>26.111723</td>\n",
       "      <td>6402984</td>\n",
       "    </tr>\n",
       "    <tr>\n",
       "      <th>3</th>\n",
       "      <td>1997-09-25</td>\n",
       "      <td>48.607792</td>\n",
       "      <td>49.235184</td>\n",
       "      <td>48.368786</td>\n",
       "      <td>48.577915</td>\n",
       "      <td>26.127787</td>\n",
       "      <td>5150504</td>\n",
       "    </tr>\n",
       "    <tr>\n",
       "      <th>4</th>\n",
       "      <td>1997-09-26</td>\n",
       "      <td>49.145554</td>\n",
       "      <td>49.324810</td>\n",
       "      <td>48.727295</td>\n",
       "      <td>49.055927</td>\n",
       "      <td>26.384907</td>\n",
       "      <td>4452613</td>\n",
       "    </tr>\n",
       "  </tbody>\n",
       "</table>\n",
       "</div>"
      ],
      "text/plain": [
       "         Date       Open       High        Low      Close  Adj Close    Volume\n",
       "0  1997-09-22  48.757172  50.250957  48.757172  49.653442  26.706272  14516806\n",
       "1  1997-09-23  49.743069  50.191204  49.115681  49.354687  26.545588   8669666\n",
       "2  1997-09-24  49.653442  49.922321  48.488289  48.548038  26.111723   6402984\n",
       "3  1997-09-25  48.607792  49.235184  48.368786  48.577915  26.127787   5150504\n",
       "4  1997-09-26  49.145554  49.324810  48.727295  49.055927  26.384907   4452613"
      ]
     },
     "execution_count": 28,
     "metadata": {},
     "output_type": "execute_result"
    }
   ],
   "source": [
    "#reading dataset\n",
    "train_url = \"/Applications/Gursimran/Projects/Stock-Prediction-using-LSTM/Data/Train_IBM.csv\"\n",
    "training_dataset = pd.read_csv(train_url)\n",
    "training_dataset.head()"
   ]
  },
  {
   "cell_type": "code",
   "execution_count": 29,
   "id": "7336092a",
   "metadata": {},
   "outputs": [
    {
     "name": "stdout",
     "output_type": "stream",
     "text": [
      "Start Date: 1997-09-22\n",
      "End Date: 2022-09-20\n"
     ]
    }
   ],
   "source": [
    "print(\"Start Date:\", training_dataset['Date'].iloc[0])\n",
    "print(\"End Date:\", training_dataset['Date'].iloc[-1])"
   ]
  },
  {
   "cell_type": "code",
   "execution_count": 30,
   "id": "7e1607b9",
   "metadata": {},
   "outputs": [
    {
     "name": "stdout",
     "output_type": "stream",
     "text": [
      "[[48.757172]\n",
      " [49.743069]\n",
      " [49.653442]\n",
      " [48.607792]\n",
      " [49.145554]]\n"
     ]
    }
   ],
   "source": [
    "# taking open and high as training dataset\n",
    "training_set = training_dataset.iloc[:, 1:2].values\n",
    "\n",
    "# Printing the first few elements of the training_set\n",
    "print(training_set[:5])  # This will print the first 5 rows of the training_set\n"
   ]
  },
  {
   "cell_type": "code",
   "execution_count": 31,
   "id": "b0859c8a",
   "metadata": {},
   "outputs": [
    {
     "name": "stdout",
     "output_type": "stream",
     "text": [
      "        Open\n",
      "0  48.757172\n",
      "1  49.743069\n",
      "2  49.653442\n",
      "3  48.607792\n",
      "4  49.145554\n"
     ]
    }
   ],
   "source": [
    "# Convert the NumPy array back to a DataFrame\n",
    "training_set_df = pd.DataFrame(training_set, columns=['Open'])\n",
    "\n",
    "# Now you can use the head() method\n",
    "print(training_set_df.head())"
   ]
  },
  {
   "cell_type": "code",
   "execution_count": 32,
   "id": "3e739bf5",
   "metadata": {},
   "outputs": [
    {
     "data": {
      "text/plain": [
       "6291"
      ]
     },
     "execution_count": 32,
     "metadata": {},
     "output_type": "execute_result"
    }
   ],
   "source": [
    "training_set_df.size"
   ]
  },
  {
   "cell_type": "code",
   "execution_count": 33,
   "id": "57be6a57",
   "metadata": {},
   "outputs": [],
   "source": [
    "#normalization\n",
    "sc = MinMaxScaler(feature_range=(0,1))\n",
    "training_set_scaled = sc.fit_transform(training_set)"
   ]
  },
  {
   "cell_type": "code",
   "execution_count": 34,
   "id": "00099524",
   "metadata": {},
   "outputs": [],
   "source": [
    "#incorporating timesteps into data\n",
    "X_train = []\n",
    "y_train = []\n",
    "for i in range(60, len(training_set_scaled)):\n",
    "    X_train.append(training_set_scaled[i-60:i, 0])\n",
    "    y_train.append(training_set_scaled[i, 0])\n",
    "X_train, y_train = np.array(X_train), np.array(y_train)\n",
    "X_train = np.reshape(X_train, (X_train.shape[0], X_train.shape[1], 1))\n"
   ]
  },
  {
   "cell_type": "code",
   "execution_count": 35,
   "id": "c1888df0",
   "metadata": {},
   "outputs": [
    {
     "name": "stdout",
     "output_type": "stream",
     "text": [
      "Epoch 1/100\n",
      "195/195 [==============================] - 6s 26ms/step - loss: 0.0109\n",
      "Epoch 2/100\n",
      "195/195 [==============================] - 5s 27ms/step - loss: 0.0035\n",
      "Epoch 3/100\n",
      "195/195 [==============================] - 5s 27ms/step - loss: 0.0031\n",
      "Epoch 4/100\n",
      "195/195 [==============================] - 5s 27ms/step - loss: 0.0028\n",
      "Epoch 5/100\n",
      "195/195 [==============================] - 5s 28ms/step - loss: 0.0026\n",
      "Epoch 6/100\n",
      "195/195 [==============================] - 5s 28ms/step - loss: 0.0023\n",
      "Epoch 7/100\n",
      "195/195 [==============================] - 5s 28ms/step - loss: 0.0022\n",
      "Epoch 8/100\n",
      "195/195 [==============================] - 6s 28ms/step - loss: 0.0019\n",
      "Epoch 9/100\n",
      "195/195 [==============================] - 6s 29ms/step - loss: 0.0017\n",
      "Epoch 10/100\n",
      "195/195 [==============================] - 6s 29ms/step - loss: 0.0017\n",
      "Epoch 11/100\n",
      "195/195 [==============================] - 6s 29ms/step - loss: 0.0015\n",
      "Epoch 12/100\n",
      "195/195 [==============================] - 6s 29ms/step - loss: 0.0016\n",
      "Epoch 13/100\n",
      "195/195 [==============================] - 6s 29ms/step - loss: 0.0013\n",
      "Epoch 14/100\n",
      "195/195 [==============================] - 6s 29ms/step - loss: 0.0012\n",
      "Epoch 15/100\n",
      "195/195 [==============================] - 6s 29ms/step - loss: 0.0013\n",
      "Epoch 16/100\n",
      "195/195 [==============================] - 6s 29ms/step - loss: 0.0012\n",
      "Epoch 17/100\n",
      "195/195 [==============================] - 6s 29ms/step - loss: 0.0011\n",
      "Epoch 18/100\n",
      "195/195 [==============================] - 6s 29ms/step - loss: 0.0010\n",
      "Epoch 19/100\n",
      "195/195 [==============================] - 6s 29ms/step - loss: 9.9182e-04\n",
      "Epoch 20/100\n",
      "195/195 [==============================] - 6s 29ms/step - loss: 9.2419e-04\n",
      "Epoch 21/100\n",
      "195/195 [==============================] - 6s 29ms/step - loss: 9.1028e-04\n",
      "Epoch 22/100\n",
      "195/195 [==============================] - 6s 29ms/step - loss: 9.6451e-04\n",
      "Epoch 23/100\n",
      "195/195 [==============================] - 6s 29ms/step - loss: 8.6102e-04\n",
      "Epoch 24/100\n",
      "195/195 [==============================] - 6s 29ms/step - loss: 8.4704e-04\n",
      "Epoch 25/100\n",
      "195/195 [==============================] - 6s 29ms/step - loss: 8.0475e-04\n",
      "Epoch 26/100\n",
      "195/195 [==============================] - 6s 29ms/step - loss: 7.5118e-04\n",
      "Epoch 27/100\n",
      "195/195 [==============================] - 6s 29ms/step - loss: 7.4599e-04\n",
      "Epoch 28/100\n",
      "195/195 [==============================] - 6s 29ms/step - loss: 7.1224e-04\n",
      "Epoch 29/100\n",
      "195/195 [==============================] - 6s 29ms/step - loss: 7.1733e-04\n",
      "Epoch 30/100\n",
      "195/195 [==============================] - 6s 30ms/step - loss: 7.2444e-04\n",
      "Epoch 31/100\n",
      "195/195 [==============================] - 6s 29ms/step - loss: 7.0771e-04\n",
      "Epoch 32/100\n",
      "195/195 [==============================] - 6s 29ms/step - loss: 6.9038e-04\n",
      "Epoch 33/100\n",
      "195/195 [==============================] - 6s 29ms/step - loss: 6.6383e-04\n",
      "Epoch 34/100\n",
      "195/195 [==============================] - 6s 29ms/step - loss: 7.2361e-04\n",
      "Epoch 35/100\n",
      "195/195 [==============================] - 6s 29ms/step - loss: 6.5810e-04\n",
      "Epoch 36/100\n",
      "195/195 [==============================] - 6s 29ms/step - loss: 6.9011e-04\n",
      "Epoch 37/100\n",
      "195/195 [==============================] - 6s 29ms/step - loss: 6.8116e-04\n",
      "Epoch 38/100\n",
      "195/195 [==============================] - 6s 29ms/step - loss: 6.3564e-04\n",
      "Epoch 39/100\n",
      "195/195 [==============================] - 6s 29ms/step - loss: 6.2745e-04\n",
      "Epoch 40/100\n",
      "195/195 [==============================] - 6s 29ms/step - loss: 6.2720e-04\n",
      "Epoch 41/100\n",
      "195/195 [==============================] - 6s 29ms/step - loss: 5.9961e-04\n",
      "Epoch 42/100\n",
      "195/195 [==============================] - 6s 29ms/step - loss: 6.6320e-04\n",
      "Epoch 43/100\n",
      "195/195 [==============================] - 6s 30ms/step - loss: 6.3392e-04\n",
      "Epoch 44/100\n",
      "195/195 [==============================] - 6s 30ms/step - loss: 5.8680e-04\n",
      "Epoch 45/100\n",
      "195/195 [==============================] - 6s 29ms/step - loss: 6.1549e-04\n",
      "Epoch 46/100\n",
      "195/195 [==============================] - 6s 29ms/step - loss: 6.8669e-04\n",
      "Epoch 47/100\n",
      "195/195 [==============================] - 6s 31ms/step - loss: 5.9523e-04\n",
      "Epoch 48/100\n",
      "195/195 [==============================] - 6s 30ms/step - loss: 5.8638e-04\n",
      "Epoch 49/100\n",
      "195/195 [==============================] - 6s 31ms/step - loss: 6.0814e-04\n",
      "Epoch 50/100\n",
      "195/195 [==============================] - 6s 30ms/step - loss: 5.7391e-04\n",
      "Epoch 51/100\n",
      "195/195 [==============================] - 6s 31ms/step - loss: 5.6109e-04\n",
      "Epoch 52/100\n",
      "195/195 [==============================] - 6s 32ms/step - loss: 6.2729e-04\n",
      "Epoch 53/100\n",
      "195/195 [==============================] - 6s 32ms/step - loss: 5.6558e-04\n",
      "Epoch 54/100\n",
      "195/195 [==============================] - 6s 30ms/step - loss: 5.9464e-04\n",
      "Epoch 55/100\n",
      "195/195 [==============================] - 6s 30ms/step - loss: 6.1216e-04\n",
      "Epoch 56/100\n",
      "195/195 [==============================] - 6s 31ms/step - loss: 6.1122e-04\n",
      "Epoch 57/100\n",
      "195/195 [==============================] - 6s 31ms/step - loss: 5.9179e-04\n",
      "Epoch 58/100\n",
      "195/195 [==============================] - 6s 30ms/step - loss: 5.9122e-04\n",
      "Epoch 59/100\n",
      "195/195 [==============================] - 6s 30ms/step - loss: 5.6865e-04\n",
      "Epoch 60/100\n",
      "195/195 [==============================] - 6s 30ms/step - loss: 5.6165e-04\n",
      "Epoch 61/100\n",
      "195/195 [==============================] - 6s 30ms/step - loss: 6.0772e-04\n",
      "Epoch 62/100\n",
      "195/195 [==============================] - 6s 30ms/step - loss: 5.4088e-04\n",
      "Epoch 63/100\n",
      "195/195 [==============================] - 6s 31ms/step - loss: 5.6081e-04\n",
      "Epoch 64/100\n",
      "195/195 [==============================] - 6s 31ms/step - loss: 5.7550e-04\n",
      "Epoch 65/100\n",
      "195/195 [==============================] - 6s 30ms/step - loss: 5.8247e-04\n",
      "Epoch 66/100\n",
      "195/195 [==============================] - 6s 30ms/step - loss: 5.4019e-04\n",
      "Epoch 67/100\n",
      "195/195 [==============================] - 6s 30ms/step - loss: 5.5878e-04\n",
      "Epoch 68/100\n",
      "195/195 [==============================] - 6s 30ms/step - loss: 5.4862e-04\n",
      "Epoch 69/100\n",
      "195/195 [==============================] - 6s 30ms/step - loss: 5.6481e-04\n",
      "Epoch 70/100\n",
      "195/195 [==============================] - 6s 31ms/step - loss: 5.2870e-04\n",
      "Epoch 71/100\n",
      "195/195 [==============================] - 6s 30ms/step - loss: 5.3018e-04\n",
      "Epoch 72/100\n",
      "195/195 [==============================] - 6s 31ms/step - loss: 5.4810e-04\n",
      "Epoch 73/100\n",
      "195/195 [==============================] - 6s 31ms/step - loss: 5.6919e-04\n",
      "Epoch 74/100\n",
      "195/195 [==============================] - 6s 31ms/step - loss: 5.4900e-04\n",
      "Epoch 75/100\n",
      "195/195 [==============================] - 6s 31ms/step - loss: 5.3674e-04\n",
      "Epoch 76/100\n",
      "195/195 [==============================] - 6s 31ms/step - loss: 5.4887e-04\n",
      "Epoch 77/100\n",
      "195/195 [==============================] - 6s 31ms/step - loss: 5.5446e-04\n",
      "Epoch 78/100\n",
      "195/195 [==============================] - 6s 31ms/step - loss: 5.6044e-04\n",
      "Epoch 79/100\n",
      "195/195 [==============================] - 6s 31ms/step - loss: 5.2858e-04\n",
      "Epoch 80/100\n",
      "195/195 [==============================] - 6s 31ms/step - loss: 5.1749e-04\n",
      "Epoch 81/100\n",
      "195/195 [==============================] - 6s 32ms/step - loss: 5.4082e-04\n",
      "Epoch 82/100\n",
      "195/195 [==============================] - 6s 31ms/step - loss: 5.2835e-04\n",
      "Epoch 83/100\n",
      "195/195 [==============================] - 6s 32ms/step - loss: 5.2693e-04\n",
      "Epoch 84/100\n",
      "195/195 [==============================] - 6s 31ms/step - loss: 5.5654e-04\n",
      "Epoch 85/100\n",
      "195/195 [==============================] - 6s 31ms/step - loss: 5.2590e-04\n",
      "Epoch 86/100\n",
      "195/195 [==============================] - 6s 32ms/step - loss: 5.2803e-04\n",
      "Epoch 87/100\n",
      "195/195 [==============================] - 6s 32ms/step - loss: 5.2364e-04\n",
      "Epoch 88/100\n",
      "195/195 [==============================] - 6s 32ms/step - loss: 5.1960e-04\n",
      "Epoch 89/100\n",
      "195/195 [==============================] - 6s 31ms/step - loss: 5.0819e-04\n",
      "Epoch 90/100\n",
      "195/195 [==============================] - 6s 32ms/step - loss: 5.7068e-04\n",
      "Epoch 91/100\n",
      "195/195 [==============================] - 6s 32ms/step - loss: 5.1624e-04\n",
      "Epoch 92/100\n",
      "195/195 [==============================] - 6s 32ms/step - loss: 5.2156e-04\n",
      "Epoch 93/100\n",
      "195/195 [==============================] - 6s 32ms/step - loss: 5.2751e-04\n",
      "Epoch 94/100\n",
      "195/195 [==============================] - 6s 32ms/step - loss: 5.4471e-04\n",
      "Epoch 95/100\n"
     ]
    },
    {
     "name": "stdout",
     "output_type": "stream",
     "text": [
      "195/195 [==============================] - 6s 32ms/step - loss: 5.4296e-04\n",
      "Epoch 96/100\n",
      "195/195 [==============================] - 6s 32ms/step - loss: 5.1195e-04\n",
      "Epoch 97/100\n",
      "195/195 [==============================] - 6s 31ms/step - loss: 4.9717e-04\n",
      "Epoch 98/100\n",
      "195/195 [==============================] - 6s 30ms/step - loss: 5.0366e-04\n",
      "Epoch 99/100\n",
      "195/195 [==============================] - 6s 30ms/step - loss: 5.4008e-04\n",
      "Epoch 100/100\n",
      "195/195 [==============================] - 6s 31ms/step - loss: 4.7596e-04\n"
     ]
    },
    {
     "data": {
      "text/plain": [
       "<keras.src.callbacks.History at 0x286c9ea10>"
      ]
     },
     "execution_count": 35,
     "metadata": {},
     "output_type": "execute_result"
    }
   ],
   "source": [
    "#creating LSTM model\n",
    "model = Sequential()\n",
    "model.add(LSTM(units=50,return_sequences=True,input_shape=(X_train.shape[1], 1)))\n",
    "model.add(Dropout(0.2))\n",
    "model.add(LSTM(units=50,return_sequences=True))\n",
    "model.add(Dropout(0.2))\n",
    "model.add(LSTM(units=50,return_sequences=True))\n",
    "model.add(Dropout(0.2))\n",
    "model.add(LSTM(units=50))\n",
    "model.add(Dropout(0.2))\n",
    "model.add(Dense(units=1))\n",
    "model.compile(optimizer='adam',loss='mean_squared_error')\n",
    "model.fit(X_train,y_train,epochs=100,batch_size=32)"
   ]
  },
  {
   "cell_type": "code",
   "execution_count": 59,
   "id": "95cf1c6b",
   "metadata": {},
   "outputs": [],
   "source": [
    "#making predictions on the test set\n",
    "url = '/Applications/Gursimran/Projects/Stock-Prediction-using-LSTM/Data/Test_IBM.csv'\n",
    "dataset_test = pd.read_csv(url)\n",
    "real_stock_price = dataset_test.iloc[:, 1:2].values"
   ]
  },
  {
   "cell_type": "code",
   "execution_count": 60,
   "id": "3fb69e6a",
   "metadata": {},
   "outputs": [
    {
     "name": "stdout",
     "output_type": "stream",
     "text": [
      "206/206 [==============================] - 1s 7ms/step\n"
     ]
    }
   ],
   "source": [
    "# Normalizing the test data\n",
    "inputs = sc.transform(dataset_test['Open'].values.reshape(-1, 1))\n",
    "\n",
    "# Create X_test dataset\n",
    "X_test = []\n",
    "for i in range(60, len(inputs)):\n",
    "    X_test.append(inputs[i-60:i, 0])\n",
    "\n",
    "X_test = np.array(X_test)\n",
    "X_test = np.reshape(X_test, (X_test.shape[0], X_test.shape[1], 1))\n",
    "\n",
    "# Make predictions\n",
    "predicted_stock_price = model.predict(X_test)\n",
    "\n",
    "# Inverse transform predictions\n",
    "predicted_stock_price = sc.inverse_transform(predicted_stock_price)\n"
   ]
  },
  {
   "cell_type": "code",
   "execution_count": 61,
   "id": "2890ccf3",
   "metadata": {},
   "outputs": [
    {
     "data": {
      "image/png": "[encoded data removed]",
      "text/plain": [
       "<Figure size 640x480 with 1 Axes>"
      ]
     },
     "metadata": {},
     "output_type": "display_data"
    }
   ],
   "source": [
    "# Plotting\n",
    "plt.plot(real_stock_price, color='blue', label='IBM Stock Price')\n",
    "plt.plot(predicted_stock_price, color='green', label='Predicted IBM Stock Price')\n",
    "plt.title('IBM Stock Price Prediction')\n",
    "plt.xlabel('Time')\n",
    "plt.ylabel('IBM Stock Price')\n",
    "plt.legend()\n",
    "plt.show()"
   ]
  },
  {
   "cell_type": "code",
   "execution_count": null,
   "id": "9dd059fa",
   "metadata": {},
   "outputs": [],
   "source": []
  },
  {
   "cell_type": "code",
   "execution_count": null,
   "id": "61c02cd5",
   "metadata": {},
   "outputs": [],
   "source": []
  },
  {
   "cell_type": "code",
   "execution_count": null,
   "id": "700f47e6",
   "metadata": {},
   "outputs": [],
   "source": []
  },
  {
   "cell_type": "code",
   "execution_count": null,
   "id": "0aeafcb8",
   "metadata": {},
   "outputs": [],
   "source": []
  },
  {
   "cell_type": "code",
   "execution_count": null,
   "id": "6c2c7abd",
   "metadata": {},
   "outputs": [],
   "source": []
  },
  {
   "cell_type": "code",
   "execution_count": null,
   "id": "815102c5",
   "metadata": {},
   "outputs": [],
   "source": []
  },
  {
   "cell_type": "code",
   "execution_count": null,
   "id": "9a629f60",
   "metadata": {},
   "outputs": [],
   "source": []
  },
  {
   "cell_type": "code",
   "execution_count": null,
   "id": "e42984e6",
   "metadata": {},
   "outputs": [],
   "source": []
  },
  {
   "cell_type": "code",
   "execution_count": null,
   "id": "9cc5b0bc",
   "metadata": {},
   "outputs": [],
   "source": []
  },
  {
   "cell_type": "code",
   "execution_count": null,
   "id": "c8a41d84",
   "metadata": {},
   "outputs": [],
   "source": []
  },
  {
   "cell_type": "code",
   "execution_count": null,
   "id": "5c5e09af",
   "metadata": {},
   "outputs": [],
   "source": []
  },
  {
   "cell_type": "code",
   "execution_count": null,
   "id": "85edbc91",
   "metadata": {},
   "outputs": [],
   "source": []
  }
 ],
 "metadata": {
  "kernelspec": {
   "display_name": "Python 3 (ipykernel)",
   "language": "python",
   "name": "python3"
  },
  "language_info": {
   "codemirror_mode": {
    "name": "ipython",
    "version": 3
   },
   "file_extension": ".py",
   "mimetype": "text/x-python",
   "name": "python",
   "nbconvert_exporter": "python",
   "pygments_lexer": "ipython3",
   "version": "3.11.5"
  }
 },
 "nbformat": 4,
 "nbformat_minor": 5
}
